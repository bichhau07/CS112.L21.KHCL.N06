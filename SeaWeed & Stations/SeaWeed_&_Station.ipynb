{
  "nbformat": 4,
  "nbformat_minor": 0,
  "metadata": {
    "colab": {
      "name": "SeaWeed & Station",
      "provenance": [],
      "collapsed_sections": []
    },
    "kernelspec": {
      "name": "python3",
      "display_name": "Python 3"
    }
  },
  "cells": [
    {
      "cell_type": "markdown",
      "metadata": {
        "id": "kfD09qQsMJUv"
      },
      "source": [
        "# **CS112.L21.KHCL.N06:**\n",
        "\n",
        "> # 1. Bùi Thị Bích Hậu - 19521483\n",
        "> # 2. Lê Vinh Quang - 19522093\n",
        "> # 3. Trần Tiến Hưng - 19521587\n",
        "\n",
        "\n",
        "\n",
        ">>>>> # **Bài tập Tảo Biển + Trạm Thu Phí**\n",
        "# **1. TẢO BIỂN**\n",
        "> # **a. Abstraction:**\n",
        ">>  Cho hai số n và k(1 <= n <= 1000, 1 <= k <= 10^17), biết hàm F(x) là hàm tính số Fibonacci, hãy tính n*F(2k+1) theo mô đun 10^9 +7.\n",
        "\n",
        "> # **b. Pattern Recognition:**\n",
        ">> Tính dãy số Fibonacci.\n",
        "\n",
        ">> **Đặc điểm nhận dạng**: Ta có thể thấy số cá thể của    tảo biển sẽ tăng theo phần tử lẻ của dãy số Fibonacci. Nên ta có thể tính được n cá thể tảo biển sinh sản trong k ngày là:  n*F(2k+1).\n",
        "\n",
        "> # **c. Algorithm designed:**\n",
        ">>```\n",
        "Input n,k\n",
        "f1=1\n",
        "f2=1\n",
        "f3=0\n",
        "for step in range(1,2k):\n",
        "\tf3=f1+f2\n",
        "\tf1=f2\n",
        "\tf2=f3\n",
        "Print((f3*n)℅1000000007)\n",
        "```\n",
        "> # **d. Evaluate Complexity of Solution**\n",
        ">> Độ phức tạp: O(n)q"
      ]
    },
    {
      "cell_type": "markdown",
      "metadata": {
        "id": "RBDIsPhwQJrp"
      },
      "source": [
        "# **2. TRẠM THU PHÍ**\n",
        "> # **a. Abstraction:**\n",
        ">>  Cho mảng A gồm n phần tử, hãy tìm mảng con từ A[p] đến A[q] có tổng lớn nhất trong mảng A. Biết p<q.\n",
        "\n",
        "\n",
        "> # **b. Pattern Recognition:**\n",
        ">> Đây là bài toán tìm dãy con liên tục lớn nhất trong mảng, sao cho tổng phần tử của dãy con lớn nhất\n",
        "\n",
        ">> **Đặc điểm nhận dạng**: Ta có thể thấy input là 1 mảng, output là 1 đoạn, tổng các phần tử trong đoạn đó là max.\n",
        "\n",
        "> # **c. Algorithm designed:**\n",
        "\n",
        ">>Input Array A\n",
        "\n",
        ">>sum_so_far = -maxsize - 1\n",
        "\n",
        ">>last_sum = 0\n",
        "\n",
        ">>start = 0\n",
        "\n",
        ">>end = 0\n",
        "\n",
        ">>s = 0\n",
        "\n",
        ">>>for each ele in A:\n",
        "\n",
        ">>> current_sum += A[i]\n",
        "\n",
        ">>>> if sum_so_far < current_sum:\n",
        "\n",
        ">>>>> sum_so_far = current_sum\n",
        "\n",
        ">>>>> start = s\n",
        "\n",
        ">>>>> end = i\n",
        "\n",
        ">>>> if current_sum < 0:\n",
        "\n",
        ">>>>> current_sum = 0\n",
        "\n",
        ">>>>> s = i + 1\n",
        "\n",
        "> # **d. Evaluate Complexity of Solution**\n",
        ">> Độ phức tạp: O(n)"
      ]
    }
  ]
}