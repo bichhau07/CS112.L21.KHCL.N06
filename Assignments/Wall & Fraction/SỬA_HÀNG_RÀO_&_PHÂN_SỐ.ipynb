{
  "nbformat": 4,
  "nbformat_minor": 0,
  "metadata": {
    "colab": {
      "name": "SỬA HÀNG RÀO & PHÂN SỐ",
      "provenance": [],
      "collapsed_sections": []
    },
    "kernelspec": {
      "name": "python3",
      "display_name": "Python 3"
    }
  },
  "cells": [
    {
      "cell_type": "markdown",
      "metadata": {
        "id": "kfD09qQsMJUv"
      },
      "source": [
        "# **CS112.L21.KHCL.N06:**\n",
        "\n",
        "> # 1. Bùi Thị Bích Hậu - 19521483\n",
        "> # 2. Lê Vinh Quang - 19522093\n",
        "> # 3. Trần Tiến Hưng - 19521587\n",
        "\n",
        "\n",
        "\n",
        ">>>>> # **Bài tập Sửa Hàng Rào & Phân Số**\n",
        "# **1. SỬA HÀNG RÀO**\n",
        "> # **a. Abstraction:**\n",
        "\n",
        "> # **b. Pattern Recognition:**\n",
        "\n",
        "\n",
        "># **Đặc điểm nhận dạng**:\n",
        "\n",
        "> # **c. Algorithm designed:**\n",
        "\n",
        "> # **d. Evaluate Complexity of Solution**"
      ]
    },
    {
      "cell_type": "code",
      "metadata": {
        "id": "ldVmpXYhAGfN"
      },
      "source": [
        "Mai"
      ],
      "execution_count": null,
      "outputs": []
    },
    {
      "cell_type": "markdown",
      "metadata": {
        "id": "RBDIsPhwQJrp"
      },
      "source": [
        "# **2. PHÂN SỐ**\n",
        "> # **a. Abstraction:**\n",
        ">>  Cho 2 phân số tối giản a và b , mỗi bước tăng a và b thêm 1 đơn vị rồi tối giản phân số nhận được. Tìm số bước biến đổi để từ phân số a/b được phân số c/d.\n",
        "\n",
        "> # **b. Pattern Recognition:**\n",
        ">> Kỹ thuật áp dụng: Vừa biến đổi vừa đếm bước đến khi nào phân số thứ nhất bằng hoặc lớn hơn phân số thứ 2 thì dừng , nếu bằng thì in ra số bước, ngược lại thì in ra 0.\n",
        "\n",
        "># **Đặc điểm nhận dạng**: \n",
        ">> Có điều kiện dừng khi a==c, b==d, sử dụng vòng lặp để so sánh.\n",
        "\n",
        "> # **c. Algorithm designed:**\n",
        "```\n",
        "X = a/b\n",
        "Y = c/d\n",
        "while a&d < b*c:\n",
        "  g = gcd(a+1, b+1)\n",
        "  a //= g \n",
        "  b //= g\n",
        "  count += 1\n",
        "  if(a==c and b==d):\n",
        "    print(count)\n",
        "    exit()\n",
        "print(0)\n",
        "\n",
        "```\n",
        "> # **d. Evaluate Complexity of Solution**\n",
        ">> Độ phức tạp: O(max(c,d)*log(max(a,b)))"
      ]
    }
  ]
}