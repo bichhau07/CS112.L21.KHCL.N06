{
  "nbformat": 4,
  "nbformat_minor": 0,
  "metadata": {
    "colab": {
      "name": "Đổi mới & Số nguyên mới",
      "provenance": [],
      "collapsed_sections": []
    },
    "kernelspec": {
      "name": "python3",
      "display_name": "Python 3"
    }
  },
  "cells": [
    {
      "cell_type": "markdown",
      "metadata": {
        "id": "kfD09qQsMJUv"
      },
      "source": [
        "# **CS112.L21.KHCL.N06:**\n",
        "\n",
        "> # 1. Bùi Thị Bích Hậu - 19521483\n",
        "> # 2. Lê Vinh Quang - 19522093\n",
        "> # 3. Trần Tiến Hưng - 19521587\n",
        "\n",
        "\n",
        "\n",
        ">>>>> # **Bài tập Đổi Mới & Số Nguyên Mới**\n",
        "# **1. ĐỔI MỚI**\n",
        "> # **a. Abstraction:**\n",
        ">>  Tìm số ngày dựa vào các biến a, k, m, b, n sao cho n = 0\n",
        "\n",
        "> # **b. Pattern Recognition:**\n",
        ">> Kỹ thuật áp dụng: Chia để trị.\n",
        "\n",
        "># **Đặc điểm nhận dạng**:\n",
        "\n",
        ">> Mảng đã sắp xếp (Số cây đã đốn hạ được sau i ngày tăng dần)\n",
        "\n",
        ">> Tìm i_{min} với điều kiện tìm được\n",
        "\n",
        "> # **c. Algorithm designed:**\n",
        "```\n",
        "a, k, b, m, n = list(map(int, input().split()))\n",
        "left, right = 0, 2 * (n // (a + b)) + 1\n",
        "while left + 1 < right:\n",
        "    mid = (left + right) // 2\n",
        "    x1 = a * (k - 1) * (mid // k) + a * (mid % k)\n",
        "    x2 = b * (m - 1) * (mid // m) + b * (mid % m) \n",
        "    if x1 + x2 >= n:\n",
        "        right = mid\n",
        "    else:\n",
        "        left = mid\n",
        "print(right)\n",
        "```\n",
        "> # **d. Evaluate Complexity of Solution**\n",
        ">> Độ phức tạp: O(log(n))"
      ]
    },
    {
      "cell_type": "code",
      "metadata": {
        "id": "ldVmpXYhAGfN"
      },
      "source": [
        "Mai"
      ],
      "execution_count": null,
      "outputs": []
    },
    {
      "cell_type": "markdown",
      "metadata": {
        "id": "RBDIsPhwQJrp"
      },
      "source": [
        "# **2. SỐ NGUYÊN MỚI**\n",
        "> # **a. Abstraction:**\n",
        ">>  Tìm số nguyên M lớn nhất chia hết cho 3, sao cho M khác N duy nhất 1 chữ số. Biết N là số nguyên dương có không quá 100 chữ số.\n",
        "\n",
        "> # **b. Pattern Recognition:**\n",
        ">> Kỹ thuật áp dụng: Vét cạn\n",
        "\n",
        "># **Đặc điểm nhận dạng**: \n",
        ">>Thay đổi hoặc xóa các vị trí trong chuỗi để được số nguyên lớn nhất chia hết cho 3.\n",
        "\n",
        "\n",
        "> # **c. Algorithm designed:**\n",
        "```\n",
        "s = [int(x) for x in str(int(input().strip()))]\n",
        "sum_s = sum(s)\n",
        "for i in range(len(s)):\n",
        "    for j in range(9, s[i] - 1, -1):\n",
        "        if (sum_s - s[i] + j) % 3 == 0 and s[i] != j:\n",
        "            s[i] = j\n",
        "            print(*s, sep=\"\")\n",
        "            exit()\n",
        "for i in range(len(s) - 1, -1, -1):\n",
        "    for j in range(s[i], -1, -1):\n",
        "        if (sum_s - s[i] + j) % 3 == 0 and s[i] != j:\n",
        "            s[i] = j\n",
        "            print(*s, sep=\"\")\n",
        "            exit()\n",
        "```\n",
        "> # **d. Evaluate Complexity of Solution**\n",
        ">> Độ phức tạp: O(n)"
      ]
    }
  ]
}